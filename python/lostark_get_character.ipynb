{
 "cells": [
  {
   "cell_type": "code",
   "execution_count": 74,
   "id": "8d7df208",
   "metadata": {},
   "outputs": [
    {
     "name": "stdout",
     "output_type": "stream",
     "text": [
      "검색하고 싶은 캐릭터 이름을 입력해주세요\n",
      "Harborship\n",
      "케릭터 이름 : Heermann, 케릭터 레벨 : Lv.59, 아이템 레벨 : Lv.1,430.00\n",
      "케릭터 이름 : Halland, 케릭터 레벨 : Lv.53, 아이템 레벨 : Lv.1,415.00\n",
      "케릭터 이름 : Johnston, 케릭터 레벨 : Lv.60, 아이템 레벨 : Lv.1,477.50\n",
      "케릭터 이름 : Mogador, 케릭터 레벨 : Lv.60, 아이템 레벨 : Lv.1,445.00\n",
      "케릭터 이름 : Cossack, 케릭터 레벨 : Lv.60, 아이템 레벨 : Lv.1,472.50\n",
      "케릭터 이름 : Harborship, 케릭터 레벨 : Lv.60, 아이템 레벨 : Lv.1,520.00\n",
      "케릭터 이름 : Worcester, 케릭터 레벨 : Lv.60, 아이템 레벨 : Lv.1,462.50\n",
      "케릭터 이름 : naggarok, 케릭터 레벨 : Lv.51, 아이템 레벨 : Lv.1,100.00\n"
     ]
    }
   ],
   "source": [
    "import requests\n",
    "from bs4 import BeautifulSoup as bs \n",
    "import pandas as pd\n",
    "\n",
    "name=input(\"검색하고 싶은 캐릭터 이름을 입력해주세요\\n\")\n",
    "url='https://lostark.game.onstove.com/Profile/Character/'+name\n",
    "data=requests.get(url)\n",
    "soup=bs(data.content, \"html.parser\")\n",
    "tmp=soup.select_one('div.profile-character-list').select('ul>li>span>button>span')\n",
    "\n",
    "for n in tmp:\n",
    "    url='https://lostark.game.onstove.com/Profile/Character/'+n.text\n",
    "    data=requests.get(url)\n",
    "    soup=bs(data.content, \"html.parser\")\n",
    "    name=soup.find('span', {'class' :'profile-character-info__name'}).text\n",
    "    level=soup.find('span', {'class' :'profile-character-info__lv'}).text\n",
    "    itemlevel=soup.find('div', {'class' :'level-info2__item'}).find_all('span')[1].text\n",
    "    print(f\"케릭터 이름 : {name}, 케릭터 레벨 : {level}, 아이템 레벨 : {itemlevel}\")"
   ]
  }
 ],
 "metadata": {
  "kernelspec": {
   "display_name": "Python 3 (ipykernel)",
   "language": "python",
   "name": "python3"
  },
  "language_info": {
   "codemirror_mode": {
    "name": "ipython",
    "version": 3
   },
   "file_extension": ".py",
   "mimetype": "text/x-python",
   "name": "python",
   "nbconvert_exporter": "python",
   "pygments_lexer": "ipython3",
   "version": "3.9.7"
  }
 },
 "nbformat": 4,
 "nbformat_minor": 5
}
